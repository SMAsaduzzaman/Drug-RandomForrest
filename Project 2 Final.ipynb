{
 "cells": [
  {
   "cell_type": "markdown",
   "id": "374b2946",
   "metadata": {},
   "source": [
    "Dataset link : https://www.kaggle.com/datasets/prathamtripathi/drug-classification Do visualization and analysis to understand the dataset (follow kaggle code for inspiration) Apply Random Forest Plot AUC-ROC curve *"
   ]
  },
  {
   "cell_type": "code",
   "execution_count": 92,
   "id": "8adfb2f8",
   "metadata": {},
   "outputs": [],
   "source": [
    "import pandas as pd\n",
    "import numpy as np\n",
    "import matplotlib.pyplot as plt\n",
    "import seaborn as sns\n",
    "\n",
    "# Load the dataset\n",
    "df = pd.read_csv('data/drug200.csv')"
   ]
  },
  {
   "cell_type": "code",
   "execution_count": 93,
   "id": "99ef957e",
   "metadata": {},
   "outputs": [
    {
     "name": "stdout",
     "output_type": "stream",
     "text": [
      "Age              int64\n",
      "Sex             object\n",
      "BP              object\n",
      "Cholesterol     object\n",
      "Na_to_K        float64\n",
      "Drug            object\n",
      "dtype: object\n",
      "(200, 6)\n",
      "              Age     Na_to_K\n",
      "count  200.000000  200.000000\n",
      "mean    44.315000   16.084485\n",
      "std     16.544315    7.223956\n",
      "min     15.000000    6.269000\n",
      "25%     31.000000   10.445500\n",
      "50%     45.000000   13.936500\n",
      "75%     58.000000   19.380000\n",
      "max     74.000000   38.247000\n"
     ]
    }
   ],
   "source": [
    "# Check the data types, dimensions, and summary statistics\n",
    "print(df.dtypes)\n",
    "print(df.shape)\n",
    "print(df.describe())"
   ]
  },
  {
   "cell_type": "code",
   "execution_count": 94,
   "id": "81e154e7",
   "metadata": {
    "scrolled": false
   },
   "outputs": [
    {
     "name": "stdout",
     "output_type": "stream",
     "text": [
      "Age            0\n",
      "Sex            0\n",
      "BP             0\n",
      "Cholesterol    0\n",
      "Na_to_K        0\n",
      "Drug           0\n",
      "dtype: int64\n",
      "0\n"
     ]
    },
    {
     "data": {
      "text/plain": [
       "<AxesSubplot:>"
      ]
     },
     "execution_count": 94,
     "metadata": {},
     "output_type": "execute_result"
    },
    {
     "data": {
      "image/png": "[encoded data removed]",
      "text/plain": [
       "<Figure size 576x396 with 1 Axes>"
      ]
     },
     "metadata": {},
     "output_type": "display_data"
    }
   ],
   "source": [
    "# Check for missing values, duplicate records, and outliers\n",
    "print(df.isnull().sum())\n",
    "print(df.duplicated().sum())\n",
    "df.boxplot(column=['Age'])"
   ]
  },
  {
   "cell_type": "markdown",
   "id": "8124dd95",
   "metadata": {},
   "source": [
    "**There is no Null Value  in the Data Set**"
   ]
  },
  {
   "cell_type": "code",
   "execution_count": 95,
   "id": "359a05df",
   "metadata": {},
   "outputs": [
    {
     "data": {
      "text/html": [
       "<div>\n",
       "<style scoped>\n",
       "    .dataframe tbody tr th:only-of-type {\n",
       "        vertical-align: middle;\n",
       "    }\n",
       "\n",
       "    .dataframe tbody tr th {\n",
       "        vertical-align: top;\n",
       "    }\n",
       "\n",
       "    .dataframe thead th {\n",
       "        text-align: right;\n",
       "    }\n",
       "</style>\n",
       "<table border=\"1\" class=\"dataframe\">\n",
       "  <thead>\n",
       "    <tr style=\"text-align: right;\">\n",
       "      <th></th>\n",
       "      <th>Age</th>\n",
       "      <th>Sex</th>\n",
       "      <th>BP</th>\n",
       "      <th>Cholesterol</th>\n",
       "      <th>Na_to_K</th>\n",
       "      <th>Drug</th>\n",
       "    </tr>\n",
       "  </thead>\n",
       "  <tbody>\n",
       "    <tr>\n",
       "      <th>0</th>\n",
       "      <td>23</td>\n",
       "      <td>F</td>\n",
       "      <td>HIGH</td>\n",
       "      <td>HIGH</td>\n",
       "      <td>25.355</td>\n",
       "      <td>DrugY</td>\n",
       "    </tr>\n",
       "    <tr>\n",
       "      <th>1</th>\n",
       "      <td>47</td>\n",
       "      <td>M</td>\n",
       "      <td>LOW</td>\n",
       "      <td>HIGH</td>\n",
       "      <td>13.093</td>\n",
       "      <td>drugC</td>\n",
       "    </tr>\n",
       "    <tr>\n",
       "      <th>2</th>\n",
       "      <td>47</td>\n",
       "      <td>M</td>\n",
       "      <td>LOW</td>\n",
       "      <td>HIGH</td>\n",
       "      <td>10.114</td>\n",
       "      <td>drugC</td>\n",
       "    </tr>\n",
       "    <tr>\n",
       "      <th>3</th>\n",
       "      <td>28</td>\n",
       "      <td>F</td>\n",
       "      <td>NORMAL</td>\n",
       "      <td>HIGH</td>\n",
       "      <td>7.798</td>\n",
       "      <td>drugX</td>\n",
       "    </tr>\n",
       "    <tr>\n",
       "      <th>4</th>\n",
       "      <td>61</td>\n",
       "      <td>F</td>\n",
       "      <td>LOW</td>\n",
       "      <td>HIGH</td>\n",
       "      <td>18.043</td>\n",
       "      <td>DrugY</td>\n",
       "    </tr>\n",
       "    <tr>\n",
       "      <th>...</th>\n",
       "      <td>...</td>\n",
       "      <td>...</td>\n",
       "      <td>...</td>\n",
       "      <td>...</td>\n",
       "      <td>...</td>\n",
       "      <td>...</td>\n",
       "    </tr>\n",
       "    <tr>\n",
       "      <th>195</th>\n",
       "      <td>56</td>\n",
       "      <td>F</td>\n",
       "      <td>LOW</td>\n",
       "      <td>HIGH</td>\n",
       "      <td>11.567</td>\n",
       "      <td>drugC</td>\n",
       "    </tr>\n",
       "    <tr>\n",
       "      <th>196</th>\n",
       "      <td>16</td>\n",
       "      <td>M</td>\n",
       "      <td>LOW</td>\n",
       "      <td>HIGH</td>\n",
       "      <td>12.006</td>\n",
       "      <td>drugC</td>\n",
       "    </tr>\n",
       "    <tr>\n",
       "      <th>197</th>\n",
       "      <td>52</td>\n",
       "      <td>M</td>\n",
       "      <td>NORMAL</td>\n",
       "      <td>HIGH</td>\n",
       "      <td>9.894</td>\n",
       "      <td>drugX</td>\n",
       "    </tr>\n",
       "    <tr>\n",
       "      <th>198</th>\n",
       "      <td>23</td>\n",
       "      <td>M</td>\n",
       "      <td>NORMAL</td>\n",
       "      <td>NORMAL</td>\n",
       "      <td>14.020</td>\n",
       "      <td>drugX</td>\n",
       "    </tr>\n",
       "    <tr>\n",
       "      <th>199</th>\n",
       "      <td>40</td>\n",
       "      <td>F</td>\n",
       "      <td>LOW</td>\n",
       "      <td>NORMAL</td>\n",
       "      <td>11.349</td>\n",
       "      <td>drugX</td>\n",
       "    </tr>\n",
       "  </tbody>\n",
       "</table>\n",
       "<p>200 rows × 6 columns</p>\n",
       "</div>"
      ],
      "text/plain": [
       "     Age Sex      BP Cholesterol  Na_to_K   Drug\n",
       "0     23   F    HIGH        HIGH   25.355  DrugY\n",
       "1     47   M     LOW        HIGH   13.093  drugC\n",
       "2     47   M     LOW        HIGH   10.114  drugC\n",
       "3     28   F  NORMAL        HIGH    7.798  drugX\n",
       "4     61   F     LOW        HIGH   18.043  DrugY\n",
       "..   ...  ..     ...         ...      ...    ...\n",
       "195   56   F     LOW        HIGH   11.567  drugC\n",
       "196   16   M     LOW        HIGH   12.006  drugC\n",
       "197   52   M  NORMAL        HIGH    9.894  drugX\n",
       "198   23   M  NORMAL      NORMAL   14.020  drugX\n",
       "199   40   F     LOW      NORMAL   11.349  drugX\n",
       "\n",
       "[200 rows x 6 columns]"
      ]
     },
     "execution_count": 95,
     "metadata": {},
     "output_type": "execute_result"
    }
   ],
   "source": [
    "df"
   ]
  },
  {
   "cell_type": "markdown",
   "id": "08196ddb",
   "metadata": {},
   "source": [
    "# EDA for this dataset"
   ]
  },
  {
   "cell_type": "code",
   "execution_count": 96,
   "id": "6a52f5be",
   "metadata": {},
   "outputs": [
    {
     "data": {
      "image/png": "[encoded data removed]",
      "text/plain": [
       "<Figure size 1080x576 with 1 Axes>"
      ]
     },
     "metadata": {},
     "output_type": "display_data"
    }
   ],
   "source": [
    "plt.style.use(\"seaborn\")\n",
    "plt.figure(figsize=(15,8))\n",
    "plt.title(\"Genders\", fontsize=20, y=1.02)\n",
    "sns.countplot(x = df.Sex, palette=\"deep\")\n",
    "plt.show()"
   ]
  },
  {
   "cell_type": "code",
   "execution_count": 97,
   "id": "0c5aedec",
   "metadata": {
    "scrolled": false
   },
   "outputs": [
    {
     "name": "stderr",
     "output_type": "stream",
     "text": [
      "C:\\ProgramData\\Anaconda3\\lib\\site-packages\\seaborn\\_decorators.py:36: FutureWarning: Pass the following variables as keyword args: x, y. From version 0.12, the only valid positional argument will be `data`, and passing other arguments without an explicit keyword will result in an error or misinterpretation.\n",
      "  warnings.warn(\n"
     ]
    },
    {
     "data": {
      "text/plain": [
       "<seaborn.axisgrid.FacetGrid at 0x2b7b3e2ad60>"
      ]
     },
     "execution_count": 97,
     "metadata": {},
     "output_type": "execute_result"
    },
    {
     "data": {
      "image/png": "[encoded data removed]",
      "text/plain": [
       "<Figure size 360x360 with 1 Axes>"
      ]
     },
     "metadata": {},
     "output_type": "display_data"
    }
   ],
   "source": [
    "sns.catplot('Drug', 'Age', data = df)"
   ]
  },
  {
   "cell_type": "markdown",
   "id": "46eed6a1",
   "metadata": {},
   "source": [
    "**DrugY is most used for all ages.\n",
    "DrugC frequency is low and is used for all ages.\n",
    "DrugX is second highest frequency and is used for all ages.\n",
    "Drug A appears only for people age 50 or lower.\n",
    "Drug B appears only for people age 50 or higher.***\n",
    "- Now checking whethere there is relation between Geneder and Drug"
   ]
  },
  {
   "cell_type": "code",
   "execution_count": 98,
   "id": "a6d74be4",
   "metadata": {},
   "outputs": [
    {
     "data": {
      "text/plain": [
       "Sex  Drug \n",
       "F    DrugY    47\n",
       "     drugX    27\n",
       "     drugA     9\n",
       "     drugC     7\n",
       "     drugB     6\n",
       "M    DrugY    44\n",
       "     drugX    27\n",
       "     drugA    14\n",
       "     drugB    10\n",
       "     drugC     9\n",
       "Name: Drug, dtype: int64"
      ]
     },
     "execution_count": 98,
     "metadata": {},
     "output_type": "execute_result"
    }
   ],
   "source": [
    "sex_drug = df.groupby('Sex').Drug.value_counts()\n",
    "sex_drug"
   ]
  },
  {
   "cell_type": "code",
   "execution_count": 99,
   "id": "75cadc9f",
   "metadata": {},
   "outputs": [
    {
     "data": {
      "text/plain": [
       "<AxesSubplot:xlabel='Drug'>"
      ]
     },
     "execution_count": 99,
     "metadata": {},
     "output_type": "execute_result"
    },
    {
     "data": {
      "image/png": "[encoded data removed]",
      "text/plain": [
       "<Figure size 576x396 with 1 Axes>"
      ]
     },
     "metadata": {},
     "output_type": "display_data"
    }
   ],
   "source": [
    "sex_drug.unstack(level=0).plot(kind='bar', subplots=False)"
   ]
  },
  {
   "cell_type": "markdown",
   "id": "fe7620e9",
   "metadata": {},
   "source": [
    "**Gender of patients is not correlated with their drug type.**"
   ]
  },
  {
   "cell_type": "code",
   "execution_count": 100,
   "id": "75d40d2a",
   "metadata": {
    "scrolled": false
   },
   "outputs": [
    {
     "name": "stderr",
     "output_type": "stream",
     "text": [
      "C:\\ProgramData\\Anaconda3\\lib\\site-packages\\seaborn\\_decorators.py:36: FutureWarning: Pass the following variables as keyword args: x, y. From version 0.12, the only valid positional argument will be `data`, and passing other arguments without an explicit keyword will result in an error or misinterpretation.\n",
      "  warnings.warn(\n"
     ]
    },
    {
     "data": {
      "text/plain": [
       "<seaborn.axisgrid.FacetGrid at 0x2b7b3c22640>"
      ]
     },
     "execution_count": 100,
     "metadata": {},
     "output_type": "execute_result"
    },
    {
     "data": {
      "image/png": "[encoded data removed]",
      "text/plain": [
       "<Figure size 360x360 with 1 Axes>"
      ]
     },
     "metadata": {},
     "output_type": "display_data"
    }
   ],
   "source": [
    "sns.catplot('Drug', 'Na_to_K', data=df)"
   ]
  },
  {
   "cell_type": "markdown",
   "id": "941ca26a",
   "metadata": {},
   "source": [
    "**For na_to_k higher than 15, only drugY is used.\n",
    "Rest drugs are used in 5 to 15 Na_to_k value range.**\n",
    "- Now Checking the outliers"
   ]
  },
  {
   "cell_type": "code",
   "execution_count": 101,
   "id": "9b93b59d",
   "metadata": {},
   "outputs": [
    {
     "data": {
      "text/plain": [
       "<AxesSubplot:xlabel='Age'>"
      ]
     },
     "execution_count": 101,
     "metadata": {},
     "output_type": "execute_result"
    },
    {
     "data": {
      "image/png": "[encoded data removed]",
      "text/plain": [
       "<Figure size 576x396 with 1 Axes>"
      ]
     },
     "metadata": {},
     "output_type": "display_data"
    }
   ],
   "source": [
    "sns.boxplot(x=df['Age'])"
   ]
  },
  {
   "cell_type": "markdown",
   "id": "d731c836",
   "metadata": {},
   "source": [
    "**No outliers in gender**"
   ]
  },
  {
   "cell_type": "code",
   "execution_count": 102,
   "id": "a770e8fa",
   "metadata": {
    "scrolled": true
   },
   "outputs": [
    {
     "data": {
      "text/plain": [
       "<AxesSubplot:ylabel='Na_to_K'>"
      ]
     },
     "execution_count": 102,
     "metadata": {},
     "output_type": "execute_result"
    },
    {
     "data": {
      "image/png": "[encoded data removed]",
      "text/plain": [
       "<Figure size 576x396 with 1 Axes>"
      ]
     },
     "metadata": {},
     "output_type": "display_data"
    }
   ],
   "source": [
    "sns.boxplot(y=df['Na_to_K'])"
   ]
  },
  {
   "cell_type": "code",
   "execution_count": 103,
   "id": "fd0f15f7",
   "metadata": {},
   "outputs": [],
   "source": [
    "df.drop(df[df.Na_to_K > 30].index, inplace=True)"
   ]
  },
  {
   "cell_type": "code",
   "execution_count": 104,
   "id": "12f7b9b4",
   "metadata": {},
   "outputs": [
    {
     "data": {
      "text/plain": [
       "<AxesSubplot:xlabel='Na_to_K'>"
      ]
     },
     "execution_count": 104,
     "metadata": {},
     "output_type": "execute_result"
    },
    {
     "data": {
      "image/png": "[encoded data removed]",
      "text/plain": [
       "<Figure size 576x396 with 1 Axes>"
      ]
     },
     "metadata": {},
     "output_type": "display_data"
    }
   ],
   "source": [
    "sns.boxplot(x=df['Na_to_K'])"
   ]
  },
  {
   "cell_type": "code",
   "execution_count": 105,
   "id": "3684525a",
   "metadata": {},
   "outputs": [],
   "source": [
    "df[\"Sex\"] = df[\"Sex\"].map({\"M\": 0, \"F\":1})\n",
    "df[\"BP\"] = df[\"BP\"].map({\"HIGH\" : 3, \"NORMAL\" : 2, \"LOW\": 1})\n",
    "df[\"Cholesterol\"] = df[\"Cholesterol\"].map({\"HIGH\": 1, \"NORMAL\" : 0})\n",
    "df[\"Drug\"] = df[\"Drug\"].map({\"DrugY\": 0, \"drugC\": 1, \"drugX\": 2, \"drugA\":3, \"drugB\":4})"
   ]
  },
  {
   "cell_type": "code",
   "execution_count": 106,
   "id": "08ee8587",
   "metadata": {
    "scrolled": false
   },
   "outputs": [
    {
     "data": {
      "text/plain": [
       "<AxesSubplot:>"
      ]
     },
     "execution_count": 106,
     "metadata": {},
     "output_type": "execute_result"
    },
    {
     "data": {
      "image/png": "[encoded data removed]",
      "text/plain": [
       "<Figure size 1080x432 with 2 Axes>"
      ]
     },
     "metadata": {},
     "output_type": "display_data"
    }
   ],
   "source": [
    "plt.figure(figsize=(15,6))\n",
    "sns.heatmap(df.corr(), vmax=0.6, square=True, annot=True)"
   ]
  },
  {
   "cell_type": "markdown",
   "id": "e96246dd",
   "metadata": {},
   "source": [
    "- BP is positively correlated with Drug type.\n",
    "- Na_to_K is highly negatively correlated with drug type."
   ]
  },
  {
   "cell_type": "code",
   "execution_count": 107,
   "id": "5fde2abe",
   "metadata": {},
   "outputs": [
    {
     "name": "stderr",
     "output_type": "stream",
     "text": [
      "C:\\ProgramData\\Anaconda3\\lib\\site-packages\\seaborn\\_decorators.py:36: FutureWarning: Pass the following variables as keyword args: x, y. From version 0.12, the only valid positional argument will be `data`, and passing other arguments without an explicit keyword will result in an error or misinterpretation.\n",
      "  warnings.warn(\n"
     ]
    },
    {
     "data": {
      "image/png": "[encoded data removed]",
      "text/plain": [
       "<Figure size 576x432 with 1 Axes>"
      ]
     },
     "metadata": {},
     "output_type": "display_data"
    }
   ],
   "source": [
    "plt.figure(figsize = (8,6))\n",
    "ax = sns.boxplot('Sex', 'Age', data = df).set(ylim = (0, 80))"
   ]
  },
  {
   "cell_type": "markdown",
   "id": "dfd29164",
   "metadata": {},
   "source": [
    "**Distribution of patients age compared to gender is pretty simillar.**"
   ]
  },
  {
   "cell_type": "markdown",
   "id": "c6150544",
   "metadata": {},
   "source": [
    "# Feature Engineering\n",
    "- Drop of column Sex, since in EDA we saw it didin't had any affect on target feature."
   ]
  },
  {
   "cell_type": "code",
   "execution_count": 144,
   "id": "0a62b0d2",
   "metadata": {
    "scrolled": true
   },
   "outputs": [],
   "source": [
    "#ML Algorithms \n",
    "from sklearn import tree\n",
    "from sklearn.ensemble import RandomForestClassifier\n",
    "from sklearn import svm"
   ]
  },
  {
   "cell_type": "code",
   "execution_count": 145,
   "id": "50bcebe0",
   "metadata": {},
   "outputs": [],
   "source": [
    "df=pd.read_csv('data/drug200.csv')"
   ]
  },
  {
   "cell_type": "code",
   "execution_count": 146,
   "id": "c6f9f3fe",
   "metadata": {},
   "outputs": [],
   "source": [
    "#dropping sex as it has no correlation with drugs\n",
    "df.drop('Sex', axis=1, inplace=True)"
   ]
  },
  {
   "cell_type": "code",
   "execution_count": 147,
   "id": "82333ea3",
   "metadata": {},
   "outputs": [
    {
     "data": {
      "text/html": [
       "<div>\n",
       "<style scoped>\n",
       "    .dataframe tbody tr th:only-of-type {\n",
       "        vertical-align: middle;\n",
       "    }\n",
       "\n",
       "    .dataframe tbody tr th {\n",
       "        vertical-align: top;\n",
       "    }\n",
       "\n",
       "    .dataframe thead th {\n",
       "        text-align: right;\n",
       "    }\n",
       "</style>\n",
       "<table border=\"1\" class=\"dataframe\">\n",
       "  <thead>\n",
       "    <tr style=\"text-align: right;\">\n",
       "      <th></th>\n",
       "      <th>Age</th>\n",
       "      <th>BP</th>\n",
       "      <th>Cholesterol</th>\n",
       "      <th>Na_to_K</th>\n",
       "      <th>Drug</th>\n",
       "    </tr>\n",
       "  </thead>\n",
       "  <tbody>\n",
       "    <tr>\n",
       "      <th>0</th>\n",
       "      <td>23</td>\n",
       "      <td>HIGH</td>\n",
       "      <td>HIGH</td>\n",
       "      <td>25.355</td>\n",
       "      <td>DrugY</td>\n",
       "    </tr>\n",
       "    <tr>\n",
       "      <th>1</th>\n",
       "      <td>47</td>\n",
       "      <td>LOW</td>\n",
       "      <td>HIGH</td>\n",
       "      <td>13.093</td>\n",
       "      <td>drugC</td>\n",
       "    </tr>\n",
       "    <tr>\n",
       "      <th>2</th>\n",
       "      <td>47</td>\n",
       "      <td>LOW</td>\n",
       "      <td>HIGH</td>\n",
       "      <td>10.114</td>\n",
       "      <td>drugC</td>\n",
       "    </tr>\n",
       "    <tr>\n",
       "      <th>3</th>\n",
       "      <td>28</td>\n",
       "      <td>NORMAL</td>\n",
       "      <td>HIGH</td>\n",
       "      <td>7.798</td>\n",
       "      <td>drugX</td>\n",
       "    </tr>\n",
       "    <tr>\n",
       "      <th>4</th>\n",
       "      <td>61</td>\n",
       "      <td>LOW</td>\n",
       "      <td>HIGH</td>\n",
       "      <td>18.043</td>\n",
       "      <td>DrugY</td>\n",
       "    </tr>\n",
       "    <tr>\n",
       "      <th>...</th>\n",
       "      <td>...</td>\n",
       "      <td>...</td>\n",
       "      <td>...</td>\n",
       "      <td>...</td>\n",
       "      <td>...</td>\n",
       "    </tr>\n",
       "    <tr>\n",
       "      <th>195</th>\n",
       "      <td>56</td>\n",
       "      <td>LOW</td>\n",
       "      <td>HIGH</td>\n",
       "      <td>11.567</td>\n",
       "      <td>drugC</td>\n",
       "    </tr>\n",
       "    <tr>\n",
       "      <th>196</th>\n",
       "      <td>16</td>\n",
       "      <td>LOW</td>\n",
       "      <td>HIGH</td>\n",
       "      <td>12.006</td>\n",
       "      <td>drugC</td>\n",
       "    </tr>\n",
       "    <tr>\n",
       "      <th>197</th>\n",
       "      <td>52</td>\n",
       "      <td>NORMAL</td>\n",
       "      <td>HIGH</td>\n",
       "      <td>9.894</td>\n",
       "      <td>drugX</td>\n",
       "    </tr>\n",
       "    <tr>\n",
       "      <th>198</th>\n",
       "      <td>23</td>\n",
       "      <td>NORMAL</td>\n",
       "      <td>NORMAL</td>\n",
       "      <td>14.020</td>\n",
       "      <td>drugX</td>\n",
       "    </tr>\n",
       "    <tr>\n",
       "      <th>199</th>\n",
       "      <td>40</td>\n",
       "      <td>LOW</td>\n",
       "      <td>NORMAL</td>\n",
       "      <td>11.349</td>\n",
       "      <td>drugX</td>\n",
       "    </tr>\n",
       "  </tbody>\n",
       "</table>\n",
       "<p>200 rows × 5 columns</p>\n",
       "</div>"
      ],
      "text/plain": [
       "     Age      BP Cholesterol  Na_to_K   Drug\n",
       "0     23    HIGH        HIGH   25.355  DrugY\n",
       "1     47     LOW        HIGH   13.093  drugC\n",
       "2     47     LOW        HIGH   10.114  drugC\n",
       "3     28  NORMAL        HIGH    7.798  drugX\n",
       "4     61     LOW        HIGH   18.043  DrugY\n",
       "..   ...     ...         ...      ...    ...\n",
       "195   56     LOW        HIGH   11.567  drugC\n",
       "196   16     LOW        HIGH   12.006  drugC\n",
       "197   52  NORMAL        HIGH    9.894  drugX\n",
       "198   23  NORMAL      NORMAL   14.020  drugX\n",
       "199   40     LOW      NORMAL   11.349  drugX\n",
       "\n",
       "[200 rows x 5 columns]"
      ]
     },
     "execution_count": 147,
     "metadata": {},
     "output_type": "execute_result"
    }
   ],
   "source": [
    "df"
   ]
  },
  {
   "cell_type": "code",
   "execution_count": 148,
   "id": "7aa9b86a",
   "metadata": {},
   "outputs": [
    {
     "data": {
      "text/plain": [
       "array(['DrugY', 'drugC', 'drugX', 'drugA', 'drugB'], dtype=object)"
      ]
     },
     "execution_count": 148,
     "metadata": {},
     "output_type": "execute_result"
    }
   ],
   "source": [
    "df.Drug.unique()"
   ]
  },
  {
   "cell_type": "markdown",
   "id": "58356b97",
   "metadata": {},
   "source": [
    "**Classification Prediction**"
   ]
  },
  {
   "cell_type": "code",
   "execution_count": 149,
   "id": "8acf4e07",
   "metadata": {},
   "outputs": [],
   "source": [
    "from sklearn.preprocessing import LabelEncoder\n",
    "\n",
    "def label_encoding(column_name):\n",
    "  label_encoder = LabelEncoder()\n",
    "  df[column_name] = label_encoder.fit_transform(df[column_name]) "
   ]
  },
  {
   "cell_type": "code",
   "execution_count": 150,
   "id": "9c444ac1",
   "metadata": {},
   "outputs": [],
   "source": [
    "#Data split\n",
    "from sklearn.model_selection import train_test_split"
   ]
  },
  {
   "cell_type": "code",
   "execution_count": 151,
   "id": "a83b3125",
   "metadata": {},
   "outputs": [],
   "source": [
    "X=df.drop(columns='Drug')\n",
    "y=df.Drug"
   ]
  },
  {
   "cell_type": "code",
   "execution_count": 152,
   "id": "f6d60b79",
   "metadata": {},
   "outputs": [],
   "source": [
    "label_encoder=LabelEncoder()\n",
    "label_encoder.fit(df.Drug)\n",
    "df.Drug = label_encoder.transform(df.Drug)\n",
    "classes = label_encoder.classes_"
   ]
  },
  {
   "cell_type": "code",
   "execution_count": 153,
   "id": "40a2d3fc",
   "metadata": {},
   "outputs": [],
   "source": [
    "X=pd.get_dummies(X)"
   ]
  },
  {
   "cell_type": "code",
   "execution_count": 162,
   "id": "8d46ecc8",
   "metadata": {
    "scrolled": true
   },
   "outputs": [
    {
     "data": {
      "text/html": [
       "<div>\n",
       "<style scoped>\n",
       "    .dataframe tbody tr th:only-of-type {\n",
       "        vertical-align: middle;\n",
       "    }\n",
       "\n",
       "    .dataframe tbody tr th {\n",
       "        vertical-align: top;\n",
       "    }\n",
       "\n",
       "    .dataframe thead th {\n",
       "        text-align: right;\n",
       "    }\n",
       "</style>\n",
       "<table border=\"1\" class=\"dataframe\">\n",
       "  <thead>\n",
       "    <tr style=\"text-align: right;\">\n",
       "      <th></th>\n",
       "      <th>Age</th>\n",
       "      <th>Na_to_K</th>\n",
       "      <th>BP_HIGH</th>\n",
       "      <th>BP_LOW</th>\n",
       "      <th>BP_NORMAL</th>\n",
       "      <th>Cholesterol_HIGH</th>\n",
       "      <th>Cholesterol_NORMAL</th>\n",
       "    </tr>\n",
       "  </thead>\n",
       "  <tbody>\n",
       "    <tr>\n",
       "      <th>0</th>\n",
       "      <td>23</td>\n",
       "      <td>25.355</td>\n",
       "      <td>1</td>\n",
       "      <td>0</td>\n",
       "      <td>0</td>\n",
       "      <td>1</td>\n",
       "      <td>0</td>\n",
       "    </tr>\n",
       "    <tr>\n",
       "      <th>1</th>\n",
       "      <td>47</td>\n",
       "      <td>13.093</td>\n",
       "      <td>0</td>\n",
       "      <td>1</td>\n",
       "      <td>0</td>\n",
       "      <td>1</td>\n",
       "      <td>0</td>\n",
       "    </tr>\n",
       "    <tr>\n",
       "      <th>2</th>\n",
       "      <td>47</td>\n",
       "      <td>10.114</td>\n",
       "      <td>0</td>\n",
       "      <td>1</td>\n",
       "      <td>0</td>\n",
       "      <td>1</td>\n",
       "      <td>0</td>\n",
       "    </tr>\n",
       "    <tr>\n",
       "      <th>3</th>\n",
       "      <td>28</td>\n",
       "      <td>7.798</td>\n",
       "      <td>0</td>\n",
       "      <td>0</td>\n",
       "      <td>1</td>\n",
       "      <td>1</td>\n",
       "      <td>0</td>\n",
       "    </tr>\n",
       "    <tr>\n",
       "      <th>4</th>\n",
       "      <td>61</td>\n",
       "      <td>18.043</td>\n",
       "      <td>0</td>\n",
       "      <td>1</td>\n",
       "      <td>0</td>\n",
       "      <td>1</td>\n",
       "      <td>0</td>\n",
       "    </tr>\n",
       "    <tr>\n",
       "      <th>...</th>\n",
       "      <td>...</td>\n",
       "      <td>...</td>\n",
       "      <td>...</td>\n",
       "      <td>...</td>\n",
       "      <td>...</td>\n",
       "      <td>...</td>\n",
       "      <td>...</td>\n",
       "    </tr>\n",
       "    <tr>\n",
       "      <th>195</th>\n",
       "      <td>56</td>\n",
       "      <td>11.567</td>\n",
       "      <td>0</td>\n",
       "      <td>1</td>\n",
       "      <td>0</td>\n",
       "      <td>1</td>\n",
       "      <td>0</td>\n",
       "    </tr>\n",
       "    <tr>\n",
       "      <th>196</th>\n",
       "      <td>16</td>\n",
       "      <td>12.006</td>\n",
       "      <td>0</td>\n",
       "      <td>1</td>\n",
       "      <td>0</td>\n",
       "      <td>1</td>\n",
       "      <td>0</td>\n",
       "    </tr>\n",
       "    <tr>\n",
       "      <th>197</th>\n",
       "      <td>52</td>\n",
       "      <td>9.894</td>\n",
       "      <td>0</td>\n",
       "      <td>0</td>\n",
       "      <td>1</td>\n",
       "      <td>1</td>\n",
       "      <td>0</td>\n",
       "    </tr>\n",
       "    <tr>\n",
       "      <th>198</th>\n",
       "      <td>23</td>\n",
       "      <td>14.020</td>\n",
       "      <td>0</td>\n",
       "      <td>0</td>\n",
       "      <td>1</td>\n",
       "      <td>0</td>\n",
       "      <td>1</td>\n",
       "    </tr>\n",
       "    <tr>\n",
       "      <th>199</th>\n",
       "      <td>40</td>\n",
       "      <td>11.349</td>\n",
       "      <td>0</td>\n",
       "      <td>1</td>\n",
       "      <td>0</td>\n",
       "      <td>0</td>\n",
       "      <td>1</td>\n",
       "    </tr>\n",
       "  </tbody>\n",
       "</table>\n",
       "<p>200 rows × 7 columns</p>\n",
       "</div>"
      ],
      "text/plain": [
       "     Age  Na_to_K  BP_HIGH  BP_LOW  BP_NORMAL  Cholesterol_HIGH  \\\n",
       "0     23   25.355        1       0          0                 1   \n",
       "1     47   13.093        0       1          0                 1   \n",
       "2     47   10.114        0       1          0                 1   \n",
       "3     28    7.798        0       0          1                 1   \n",
       "4     61   18.043        0       1          0                 1   \n",
       "..   ...      ...      ...     ...        ...               ...   \n",
       "195   56   11.567        0       1          0                 1   \n",
       "196   16   12.006        0       1          0                 1   \n",
       "197   52    9.894        0       0          1                 1   \n",
       "198   23   14.020        0       0          1                 0   \n",
       "199   40   11.349        0       1          0                 0   \n",
       "\n",
       "     Cholesterol_NORMAL  \n",
       "0                     0  \n",
       "1                     0  \n",
       "2                     0  \n",
       "3                     0  \n",
       "4                     0  \n",
       "..                  ...  \n",
       "195                   0  \n",
       "196                   0  \n",
       "197                   0  \n",
       "198                   1  \n",
       "199                   1  \n",
       "\n",
       "[200 rows x 7 columns]"
      ]
     },
     "execution_count": 162,
     "metadata": {},
     "output_type": "execute_result"
    }
   ],
   "source": [
    "X"
   ]
  },
  {
   "cell_type": "code",
   "execution_count": 173,
   "id": "084ed6f8",
   "metadata": {},
   "outputs": [],
   "source": [
    "# Split the data into training and test sets\n",
    "X_train, X_test, y_train, y_test = train_test_split(X, y, test_size=0.3, random_state=43)"
   ]
  },
  {
   "cell_type": "code",
   "execution_count": 174,
   "id": "e9ea5166",
   "metadata": {},
   "outputs": [
    {
     "name": "stdout",
     "output_type": "stream",
     "text": [
      "X_train shape: (140, 7)\n",
      "X_test shape: (60, 7)\n",
      "y_train shape: (140,)\n",
      "y_test shape: (60,)\n"
     ]
    }
   ],
   "source": [
    "print(\"X_train shape:\",X_train.shape)\n",
    "print(\"X_test shape:\",X_test.shape)\n",
    "print(\"y_train shape:\",y_train.shape)\n",
    "print(\"y_test shape:\",y_test.shape)"
   ]
  },
  {
   "cell_type": "code",
   "execution_count": 175,
   "id": "ff07381a",
   "metadata": {
    "scrolled": true
   },
   "outputs": [
    {
     "data": {
      "text/plain": [
       "array(['drugB', 'drugX', 'drugX', 'drugX', 'drugB', 'DrugY', 'DrugY',\n",
       "       'drugC', 'DrugY', 'DrugY', 'DrugY', 'drugA', 'DrugY', 'drugC',\n",
       "       'drugX', 'drugX', 'DrugY', 'drugC', 'DrugY', 'DrugY', 'DrugY',\n",
       "       'drugC', 'DrugY', 'DrugY', 'drugX', 'DrugY', 'DrugY', 'drugX',\n",
       "       'drugA', 'DrugY', 'DrugY', 'drugX', 'drugB', 'DrugY', 'DrugY',\n",
       "       'drugC', 'DrugY', 'DrugY', 'drugB', 'drugX', 'drugX', 'drugA',\n",
       "       'drugC', 'drugC', 'drugX', 'drugX', 'drugX', 'DrugY', 'drugC',\n",
       "       'DrugY', 'DrugY', 'drugX', 'drugX', 'drugC', 'drugX', 'DrugY',\n",
       "       'DrugY', 'drugA', 'drugA', 'DrugY'], dtype=object)"
      ]
     },
     "execution_count": 175,
     "metadata": {},
     "output_type": "execute_result"
    }
   ],
   "source": [
    "from sklearn.ensemble import RandomForestClassifier\n",
    "\n",
    "rf = RandomForestClassifier(n_jobs=1,n_estimators = 11, max_features = 3, random_state = 43)\n",
    "\n",
    "rf.fit(X_train, y_train)\n",
    "\n",
    "predict = rf.predict(X_test)\n",
    "\n",
    "predict"
   ]
  },
  {
   "cell_type": "code",
   "execution_count": 2,
   "id": "a2c36bb8",
   "metadata": {},
   "outputs": [
    {
     "ename": "NameError",
     "evalue": "name 'y_test' is not defined",
     "output_type": "error",
     "traceback": [
      "\u001b[1;31m---------------------------------------------------------------------------\u001b[0m",
      "\u001b[1;31mNameError\u001b[0m                                 Traceback (most recent call last)",
      "Input \u001b[1;32mIn [2]\u001b[0m, in \u001b[0;36m<cell line: 3>\u001b[1;34m()\u001b[0m\n\u001b[0;32m      1\u001b[0m \u001b[38;5;28;01mfrom\u001b[39;00m \u001b[38;5;21;01msklearn\u001b[39;00m\u001b[38;5;21;01m.\u001b[39;00m\u001b[38;5;21;01mmetrics\u001b[39;00m \u001b[38;5;28;01mimport\u001b[39;00m classification_report\n\u001b[1;32m----> 3\u001b[0m report \u001b[38;5;241m=\u001b[39m classification_report(\u001b[43my_test\u001b[49m, predict)\n\u001b[0;32m      5\u001b[0m \u001b[38;5;28mprint\u001b[39m(report)\n",
      "\u001b[1;31mNameError\u001b[0m: name 'y_test' is not defined"
     ]
    }
   ],
   "source": [
    "from sklearn.metrics import classification_report\n",
    "\n",
    "report = classification_report(y_test, predict)\n",
    "\n",
    "print(report)"
   ]
  },
  {
   "cell_type": "code",
   "execution_count": 177,
   "id": "197d74e8",
   "metadata": {},
   "outputs": [
    {
     "name": "stdout",
     "output_type": "stream",
     "text": [
      "accuracy_score:  0.9833333333333333\n"
     ]
    }
   ],
   "source": [
    "from sklearn.metrics import accuracy_score\n",
    "acc = accuracy_score(y_test, predict)\n",
    "print('accuracy_score: ', acc)"
   ]
  },
  {
   "cell_type": "code",
   "execution_count": 180,
   "id": "3db3b486",
   "metadata": {},
   "outputs": [
    {
     "name": "stdout",
     "output_type": "stream",
     "text": [
      "Random Forest Classifier Train Score is :  1.0\n",
      "Random Forest Classifier Test Score is :  0.9833333333333333\n"
     ]
    }
   ],
   "source": [
    "rf_train_score = rf.score(X_train, y_train)\n",
    "\n",
    "rf_test_score= rf.score(X_test, y_test)\n",
    "\n",
    "print('Random Forest Classifier Train Score is : ' , rf_train_score)\n",
    "\n",
    "print('Random Forest Classifier Test Score is : ' , rf_test_score)"
   ]
  },
  {
   "cell_type": "code",
   "execution_count": 181,
   "id": "b3c9ae4b",
   "metadata": {
    "scrolled": true
   },
   "outputs": [
    {
     "name": "stdout",
     "output_type": "stream",
     "text": [
      "Random Forest Classifier Predictions : \n",
      " ['drugB' 'drugX' 'drugX' 'drugX' 'drugB' 'DrugY' 'DrugY' 'drugC' 'DrugY'\n",
      " 'DrugY' 'DrugY' 'drugA' 'DrugY' 'drugC' 'drugX' 'drugX' 'DrugY' 'drugC'\n",
      " 'DrugY' 'DrugY' 'DrugY' 'drugC' 'DrugY' 'DrugY' 'drugX' 'DrugY' 'DrugY'\n",
      " 'drugX' 'drugA' 'DrugY' 'DrugY' 'drugX' 'drugB' 'DrugY' 'DrugY' 'drugC'\n",
      " 'DrugY' 'DrugY' 'drugB' 'drugX' 'drugX' 'drugA' 'drugC' 'drugC' 'drugX'\n",
      " 'drugX' 'drugX' 'DrugY' 'drugC' 'DrugY' 'DrugY' 'drugX' 'drugX' 'drugC'\n",
      " 'drugX' 'DrugY' 'DrugY' 'drugA' 'drugA' 'DrugY'] \n",
      " Accuracy: 98.33333333333333 %\n"
     ]
    }
   ],
   "source": [
    "from sklearn import  metrics\n",
    "\n",
    "rf_acc = 100*rf.score(X_test, y_test)\n",
    "print('Random Forest Classifier Predictions : \\n', rf.predict(X_test), '\\n Accuracy:', rf_acc, '%')"
   ]
  },
  {
   "cell_type": "code",
   "execution_count": 182,
   "id": "96233c9c",
   "metadata": {},
   "outputs": [],
   "source": [
    "from sklearn.metrics import roc_curve, auc\n",
    "from sklearn.multiclass import OneVsRestClassifier\n",
    "\n",
    "RF=OneVsRestClassifier(RandomForestClassifier(max_features=5))\n",
    "RF.fit(X_train,y_train)\n",
    "y_pred =RF.predict(X_test)\n",
    "pred_prob = RF.predict_proba(X_test)"
   ]
  },
  {
   "cell_type": "code",
   "execution_count": 197,
   "id": "1043dcb4",
   "metadata": {},
   "outputs": [
    {
     "name": "stdout",
     "output_type": "stream",
     "text": [
      "5\n"
     ]
    },
    {
     "data": {
      "image/png": "[encoded data removed]",
      "text/plain": [
       "<Figure size 576x396 with 1 Axes>"
      ]
     },
     "metadata": {},
     "output_type": "display_data"
    }
   ],
   "source": [
    "from sklearn.preprocessing import label_binarize\n",
    "\n",
    "\n",
    "y_test_binarized=label_binarize(y_test,classes=np.unique(y_test))\n",
    "\n",
    "# ROC Curve for classes\n",
    "fpr = {}\n",
    "tpr = {}\n",
    "thresh ={}\n",
    "roc_auc = dict()\n",
    "\n",
    "n_class = classes.shape[0]\n",
    "print(n_class)\n",
    "for i in range(n_class):    \n",
    "    fpr[i], tpr[i], thresh[i] = roc_curve(y_test_binarized[:,i], pred_prob[:,i])\n",
    "    roc_auc[i] = auc(fpr[i], tpr[i])\n",
    "    #plotting\n",
    "    plt.plot(fpr[i],tpr[i], linestyle='--',\n",
    "            label='%s vs Reset (AUC=%0.2f)'%(classes[i], roc_auc[i]))\n",
    "plt.plot([0,1],[0,1],'b--')\n",
    "plt.xlim([0,1])\n",
    "plt.ylim([0,1.05])\n",
    "fpr, tpr, thresholds = roc_curve(y_test_binarized[:,i], pred_prob[:,i])\n",
    "plt.title('Multiclass ROC curve')\n",
    "plt.xlabel('False Positive Rate')\n",
    "plt.ylabel('True Positive rate')\n",
    "plt.legend(loc='lower right')\n",
    "plt.show()"
   ]
  },
  {
   "cell_type": "code",
   "execution_count": 185,
   "id": "32f90420",
   "metadata": {},
   "outputs": [
    {
     "data": {
      "image/png": "[encoded data removed]",
      "text/plain": [
       "<Figure size 576x396 with 1 Axes>"
      ]
     },
     "metadata": {},
     "output_type": "display_data"
    }
   ],
   "source": [
    "classifiers = {}\n",
    "for class_name in y.unique():\n",
    "    y_binary = (y_train == class_name).astype(int)\n",
    "    rf = RandomForestClassifier(n_jobs=1,n_estimators = 11, max_features = 3, random_state = 43)\n",
    "    rf.fit(X_train, y_binary)\n",
    "    classifiers[class_name] = rf\n",
    "\n",
    "# Predict probabilities for the test set\n",
    "y_pred_proba = pd.DataFrame(columns=y.unique())\n",
    "for class_name, clf in classifiers.items():\n",
    "    y_pred_proba[class_name] = clf.predict_proba(X_test)[:, 1]\n",
    "\n",
    "# Calculate the false positive rate (fpr), true positive rate (tpr), and thresholds for the ROC curve for each class\n",
    "fprs, tprs, auc_scores = {}, {}, {}\n",
    "for class_name in y.unique():\n",
    "    y_binary_test = (y_test == class_name).astype(int)\n",
    "    fprs[class_name], tprs[class_name], thresholds = roc_curve(y_binary_test, y_pred_proba[class_name])\n",
    "    auc_scores[class_name] = auc(fprs[class_name], tprs[class_name])\n",
    "\n",
    "# Plot the overall ROC curve and AUC for all classes\n",
    "plt.figure()\n",
    "plt.plot([0, 1], [0, 1], 'k--')\n",
    "for class_name in y.unique():\n",
    "    plt.plot(fprs[class_name], tprs[class_name], label=f\"{class_name} (AUC = {auc_scores[class_name]:.2f})\")\n",
    "plt.xlabel('False positive rate')\n",
    "plt.ylabel('True positive rate')\n",
    "plt.title('ROC curve')\n",
    "plt.legend(loc='best')\n",
    "plt.show()"
   ]
  }
 ],
 "metadata": {
  "kernelspec": {
   "display_name": "Python 3 (ipykernel)",
   "language": "python",
   "name": "python3"
  },
  "language_info": {
   "codemirror_mode": {
    "name": "ipython",
    "version": 3
   },
   "file_extension": ".py",
   "mimetype": "text/x-python",
   "name": "python",
   "nbconvert_exporter": "python",
   "pygments_lexer": "ipython3",
   "version": "3.9.12"
  }
 },
 "nbformat": 4,
 "nbformat_minor": 5
}
